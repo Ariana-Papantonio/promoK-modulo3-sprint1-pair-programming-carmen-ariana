{
 "cells": [
  {
   "cell_type": "markdown",
   "metadata": {},
   "source": [
    "### Pair Numpy"
   ]
  },
  {
   "cell_type": "code",
   "execution_count": 45,
   "metadata": {},
   "outputs": [],
   "source": [
    "import numpy as np"
   ]
  },
  {
   "cell_type": "markdown",
   "metadata": {},
   "source": [
    "Creación y Indexación:"
   ]
  },
  {
   "cell_type": "code",
   "execution_count": 4,
   "metadata": {},
   "outputs": [
    {
     "name": "stdout",
     "output_type": "stream",
     "text": [
      "[34 62 95 89 20 74 68 70 28 75 23 76 73 80 70 86 65 77 97 48 85 12 27 32\n",
      " 28 99 21 20 84 56 40 71 83 39 59 18 13 82 30 52 37 29 50 43 25 57 61 79\n",
      " 62 14]\n"
     ]
    }
   ],
   "source": [
    "#Crea un array 1D con 50 valores aleatorio del 10 al 99. Accede a los elementos en las posiciones múltiplos de 5.\n",
    "\n",
    "array1d = np.random.randint(10,100,50)\n",
    "print(array1d)"
   ]
  },
  {
   "cell_type": "code",
   "execution_count": 8,
   "metadata": {},
   "outputs": [
    {
     "data": {
      "text/plain": [
       "array([74, 23, 86, 85, 99, 40, 18, 37, 57])"
      ]
     },
     "execution_count": 8,
     "metadata": {},
     "output_type": "execute_result"
    }
   ],
   "source": [
    "#Accede a los elementos en las posiciones múltiplos de 5\n",
    "\n",
    "array1d[5::5]"
   ]
  },
  {
   "cell_type": "code",
   "execution_count": 11,
   "metadata": {},
   "outputs": [
    {
     "name": "stdout",
     "output_type": "stream",
     "text": [
      "[19 13  9  4  6  8 18 19 11 19  4  9 13 15 19 11  9  6 14  8 17  6  1  8\n",
      " 17 17  5  8  9  2]\n"
     ]
    }
   ],
   "source": [
    "#Crea un array 1D con 30 valores del 1 al 20 (ambos incluidos). Utiliza indexación para obtener los elementos en las posiciones impares.\n",
    "\n",
    "segundo_array1d = np.random.randint(1,21,30)\n",
    "print(segundo_array1d)"
   ]
  },
  {
   "cell_type": "code",
   "execution_count": 15,
   "metadata": {},
   "outputs": [
    {
     "data": {
      "text/plain": [
       "array([13,  4,  8, 19, 19,  9, 15, 11,  6,  8,  6,  8, 17,  8,  2])"
      ]
     },
     "execution_count": 15,
     "metadata": {},
     "output_type": "execute_result"
    }
   ],
   "source": [
    "# Utiliza indexación para obtener los elementos en las posiciones impares.\n",
    "\n",
    "segundo_array1d[1::2]\n"
   ]
  },
  {
   "cell_type": "code",
   "execution_count": 43,
   "metadata": {},
   "outputs": [
    {
     "name": "stdout",
     "output_type": "stream",
     "text": [
      "[[ 1.23  2.46  3.55  4.53  5.78  6.33]\n",
      " [ 7.22  8.23  9.25 10.33 11.32 12.33]\n",
      " [13.15 14.41 15.46 16.23 17.34 18.16]\n",
      " [12.44 14.44 45.77 67.77 23.33 54.89]]\n"
     ]
    }
   ],
   "source": [
    "#Crea un array 2D de forma (4, 6) con números aleatorios decimales (no deben estar comprendidos solo entre 0 y 1).\n",
    "\n",
    "lista_listas = [[1.234,2.456,3.554,4.532,5.7765,6.3325],[7.2156,8.2254,9.2548,10.3254,11.325,12.32554],[13.1516,14.4111,15.45646,16.2254,17.33665,18.1561], [12.444,14.444,45.766,67.765,23.334,54.886]]\n",
    "\n",
    "lista_definitiva = [[round(float(x),2) for x in sublista] for sublista in lista_listas]\n",
    "\n",
    "array2d = np.array(lista_definitiva)\n",
    "print(array2d)\n",
    "\n"
   ]
  },
  {
   "cell_type": "code",
   "execution_count": 44,
   "metadata": {},
   "outputs": [
    {
     "data": {
      "text/plain": [
       "array([12.44, 14.44, 45.77, 67.77, 23.33, 54.89])"
      ]
     },
     "execution_count": 44,
     "metadata": {},
     "output_type": "execute_result"
    }
   ],
   "source": [
    "#Accede a la última fila de la matriz. \n",
    "\n",
    "array2d[3]"
   ]
  },
  {
   "cell_type": "markdown",
   "metadata": {},
   "source": [
    "Reshape y Transpose"
   ]
  },
  {
   "cell_type": "code",
   "execution_count": 51,
   "metadata": {},
   "outputs": [
    {
     "name": "stdout",
     "output_type": "stream",
     "text": [
      "[[23  5 89 99]\n",
      " [ 4 31 97 70]\n",
      " [75 47 58 25]\n",
      " [46 64  7 65]\n",
      " [59 78 77 80]\n",
      " [13 92 76 42]]\n"
     ]
    }
   ],
   "source": [
    "#Crea un array 3D de forma (2, 3, 4) con valores aleatorios entre 1 y 100 (ambos inclusive). Utiliza reshape para convertirlo en un array 2D. Deberás pensar en la forma que es correcta para hacer este cambio.\n",
    "\n",
    "array3d = np.random.randint(1,101,(2,3,4))\n",
    "\n",
    "\n",
    "array3d_reshaped = np.reshape(array3d,(6,4), 'C')\n",
    "print(array3d_reshaped)"
   ]
  },
  {
   "cell_type": "code",
   "execution_count": 60,
   "metadata": {},
   "outputs": [
    {
     "name": "stdout",
     "output_type": "stream",
     "text": [
      "[[[20 31 54 54 26]\n",
      "  [ 7  8 27 43  6]\n",
      "  [14 52  2 21  6]\n",
      "  [20  9 50 11 12]]\n",
      "\n",
      " [[25 32 54 10  6]\n",
      "  [ 7 49 42 17  3]\n",
      "  [38 29 45 45 41]\n",
      "  [39 18 55 51 36]]\n",
      "\n",
      " [[18 37 36 12  6]\n",
      "  [59 17 29 21  5]\n",
      "  [23 36  9 58 25]\n",
      "  [56 30 37  7 16]]]\n",
      "[[20 31 54 54 26]\n",
      " [ 7  8 27 43  6]\n",
      " [14 52  2 21  6]\n",
      " [20  9 50 11 12]\n",
      " [25 32 54 10  6]\n",
      " [ 7 49 42 17  3]\n",
      " [38 29 45 45 41]\n",
      " [39 18 55 51 36]\n",
      " [18 37 36 12  6]\n",
      " [59 17 29 21  5]\n",
      " [23 36  9 58 25]\n",
      " [56 30 37  7 16]]\n"
     ]
    }
   ],
   "source": [
    "#Crea un array 3D de forma (3, 4, 5) con valores enteros del 1 al 61 (sin incluir). Utiliza reshape para convertirlo en un array 2D.\n",
    "\n",
    "array3d_2 = np.random.randint(1,61,(3,4,5))\n",
    "print(array3d_2)\n",
    "\n",
    "\n",
    "array3d_reshaped_dos = np.reshape(array3d_2,(12,5), 'C')\n",
    "print(array3d_reshaped_dos)"
   ]
  }
 ],
 "metadata": {
  "kernelspec": {
   "display_name": "base",
   "language": "python",
   "name": "python3"
  },
  "language_info": {
   "codemirror_mode": {
    "name": "ipython",
    "version": 3
   },
   "file_extension": ".py",
   "mimetype": "text/x-python",
   "name": "python",
   "nbconvert_exporter": "python",
   "pygments_lexer": "ipython3",
   "version": "3.12.4"
  }
 },
 "nbformat": 4,
 "nbformat_minor": 2
}
